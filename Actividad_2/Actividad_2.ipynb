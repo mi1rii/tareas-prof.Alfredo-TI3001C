{
 "cells": [
  {
   "cell_type": "markdown",
   "id": "fb0734e3",
   "metadata": {},
   "source": [
    "# Actividad 2 (Indexación)\n",
    "- Miranda Eugenia Colorado Arróniz A01737027\n",
    "- Ciudad escogida: Hawaii"
   ]
  },
  {
   "cell_type": "code",
   "execution_count": 11,
   "id": "bccd6956",
   "metadata": {},
   "outputs": [
    {
     "name": "stdout",
     "output_type": "stream",
     "text": [
      "Dimensiones del dataset: (36125, 79)\n"
     ]
    }
   ],
   "source": [
    "# Librerías\n",
    "import pandas as pd\n",
    "import numpy as np\n",
    "\n",
    "# Carga del CSV\n",
    "df = pd.read_csv('listings.csv.gz', compression='gzip')\n",
    "print(\"Dimensiones del dataset:\", df.shape)"
   ]
  },
  {
   "cell_type": "markdown",
   "id": "70edfa0c",
   "metadata": {},
   "source": [
    "## a) Array 2D con columnas específicas:\n",
    "host_name, host_since, neighbourhood, property_type, room_type, price"
   ]
  },
  {
   "cell_type": "code",
   "execution_count": 12,
   "id": "e304efdb",
   "metadata": {},
   "outputs": [],
   "source": [
    "columnas_a = ['host_name', 'host_since', 'neighbourhood', 'property_type', 'room_type', 'price']\n",
    "df_a = df[columnas_a]\n",
    "\n",
    "# Guardar en CSV\n",
    "df_a.to_csv('inciso_a.csv', index=False)"
   ]
  },
  {
   "cell_type": "markdown",
   "id": "0281b4f0",
   "metadata": {},
   "source": [
    "## b) Array 2D con filas específicas:\n",
    "1, 50, 100-200, 499, 500, 605, 1500, 8000, 15000"
   ]
  },
  {
   "cell_type": "code",
   "execution_count": 13,
   "id": "cf945812",
   "metadata": {},
   "outputs": [],
   "source": [
    "filas_individuales = [1, 50, 499, 500, 605, 1500, 8000, 15000]\n",
    "filas_rango = list(range(100, 201))  # 100-200\n",
    "filas_b = sorted(filas_individuales + filas_rango)\n",
    "\n",
    "df_b = df.iloc[filas_b]\n",
    "\n",
    "# Guardar en CSV\n",
    "df_b.to_csv('inciso_b.csv', index=False)"
   ]
  },
  {
   "cell_type": "markdown",
   "id": "2655b1d0",
   "metadata": {},
   "source": [
    "## c) Array 2D con filas y columnas específicas:\n",
    "- Filas: 125, 252, 300-550, 700, 1000, 1250-última fila\n",
    "- Columnas: host_id, host_location, host_acceptance_rate, bathrooms, amenities, review_scores_value"
   ]
  },
  {
   "cell_type": "code",
   "execution_count": 14,
   "id": "db256c74",
   "metadata": {},
   "outputs": [],
   "source": [
    "columnas_c = ['host_id', 'host_location', 'host_acceptance_rate', 'bathrooms', 'amenities', 'review_scores_value']\n",
    "\n",
    "filas_individuales = [125, 252, 700, 1000]\n",
    "filas_rango_1 = list(range(300, 551))  # 300-550\n",
    "filas_rango_2 = list(range(1250, len(df)))  # 1250-última fila\n",
    "filas_c = sorted(filas_individuales + filas_rango_1 + filas_rango_2)\n",
    "\n",
    "df_c = df.iloc[filas_c][columnas_c]\n",
    "\n",
    "# Guardar en CSV\n",
    "df_c.to_csv('inciso_c.csv', index=False)"
   ]
  },
  {
   "cell_type": "markdown",
   "id": "ac0ff1cc",
   "metadata": {},
   "source": [
    "## d) Array 2D con las 50 columnas de la actividad pasada:"
   ]
  },
  {
   "cell_type": "code",
   "execution_count": 15,
   "id": "df54d2cb",
   "metadata": {},
   "outputs": [],
   "source": [
    "columnas_d = ['id', 'listing_url', 'name', 'neighborhood_overview', 'picture_url', \n",
    "              'host_id', 'host_url', 'host_name', 'host_since', 'host_location', \n",
    "              'host_about', 'host_response_time', 'host_response_rate', \n",
    "              'host_acceptance_rate', 'host_is_superhost', 'host_total_listings_count',\n",
    "              'host_verifications', 'host_identity_verified', 'price', 'minimum_nights',\n",
    "              'maximum_nights', 'minimum_minimum_nights', 'maximum_minimum_nights',\n",
    "              'minimum_maximum_nights', 'maximum_maximum_nights', 'minimum_nights_avg_ntm',\n",
    "              'maximum_nights_avg_ntm', 'has_availability', 'availability_30',\n",
    "              'availability_60', 'availability_90', 'availability_365',\n",
    "              'calendar_updated', 'number_of_reviews', 'number_of_reviews_ltm',\n",
    "              'number_of_reviews_l30d', 'first_review', 'last_review',\n",
    "              'review_scores_rating', 'review_scores_accuracy', 'review_scores_cleanliness',\n",
    "              'review_scores_checkin', 'review_scores_communication',\n",
    "              'review_scores_location', 'review_scores_value', 'instant_bookable',\n",
    "              'calculated_host_listings_count',\n",
    "              'calculated_host_listings_count_entire_homes',\n",
    "              'calculated_host_listings_count_private_rooms',\n",
    "              'calculated_host_listings_count_shared_rooms']\n",
    "\n",
    "df_d = df[columnas_d]\n",
    "\n",
    "# Guardar en CSV\n",
    "df_d.to_csv('inciso_d.csv', index=False)"
   ]
  }
 ],
 "metadata": {
  "kernelspec": {
   "display_name": "Analitica",
   "language": "python",
   "name": "python3"
  },
  "language_info": {
   "codemirror_mode": {
    "name": "ipython",
    "version": 3
   },
   "file_extension": ".py",
   "mimetype": "text/x-python",
   "name": "python",
   "nbconvert_exporter": "python",
   "pygments_lexer": "ipython3",
   "version": "3.12.11"
  }
 },
 "nbformat": 4,
 "nbformat_minor": 5
}
