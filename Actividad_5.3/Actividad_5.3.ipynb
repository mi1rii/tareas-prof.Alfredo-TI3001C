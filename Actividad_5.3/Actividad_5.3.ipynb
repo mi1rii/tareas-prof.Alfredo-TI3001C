{
 "cells": [
  {
   "cell_type": "markdown",
   "id": "5b3a7527",
   "metadata": {},
   "source": [
    "# Actividad 5.3 (Valores Nulos)\n",
    "- Miranda Eugenia Colorado Arróniz A01737027"
   ]
  },
  {
   "cell_type": "code",
   "execution_count": 5,
   "id": "e4b31b48",
   "metadata": {},
   "outputs": [],
   "source": [
    "# Importar el CSV\n",
    "import pandas as pd\n",
    "df = pd.read_csv('hawaii.csv')"
   ]
  },
  {
   "cell_type": "code",
   "execution_count": null,
   "id": "fc4cc413",
   "metadata": {},
   "outputs": [
    {
     "data": {
      "text/plain": [
       "id                                                  0\n",
       "listing_url                                         0\n",
       "name                                                0\n",
       "neighborhood_overview                           18697\n",
       "picture_url                                         0\n",
       "host_id                                             0\n",
       "host_url                                            0\n",
       "host_name                                           6\n",
       "host_since                                          6\n",
       "host_location                                    9434\n",
       "host_about                                      11544\n",
       "host_response_time                               2799\n",
       "host_response_rate                               2799\n",
       "host_acceptance_rate                             2187\n",
       "host_is_superhost                                 674\n",
       "host_total_listings_count                           6\n",
       "host_verifications                                  6\n",
       "host_identity_verified                              6\n",
       "price                                            4581\n",
       "minimum_nights                                      0\n",
       "maximum_nights                                      0\n",
       "minimum_minimum_nights                              0\n",
       "maximum_minimum_nights                              0\n",
       "minimum_maximum_nights                              0\n",
       "maximum_maximum_nights                              0\n",
       "minimum_nights_avg_ntm                              0\n",
       "maximum_nights_avg_ntm                              0\n",
       "has_availability                                  363\n",
       "availability_30                                     0\n",
       "availability_60                                     0\n",
       "availability_90                                     0\n",
       "availability_365                                    0\n",
       "calendar_updated                                36125\n",
       "number_of_reviews                                   0\n",
       "number_of_reviews_ltm                               0\n",
       "number_of_reviews_l30d                              0\n",
       "first_review                                     8060\n",
       "last_review                                      8060\n",
       "review_scores_rating                             8060\n",
       "review_scores_accuracy                           8067\n",
       "review_scores_cleanliness                        8067\n",
       "review_scores_checkin                            8069\n",
       "review_scores_communication                      8067\n",
       "review_scores_location                           8068\n",
       "review_scores_value                              8068\n",
       "instant_bookable                                    0\n",
       "calculated_host_listings_count                      0\n",
       "calculated_host_listings_count_entire_homes         0\n",
       "calculated_host_listings_count_private_rooms        0\n",
       "calculated_host_listings_count_shared_rooms         0\n",
       "dtype: int64"
      ]
     },
     "execution_count": 6,
     "metadata": {},
     "output_type": "execute_result"
    }
   ],
   "source": [
    "# Ver los valores nulos por columna\n",
    "df_reindexado.isnull().sum()"
   ]
  },
  {
   "cell_type": "markdown",
   "id": "149ce0bd",
   "metadata": {},
   "source": [
    "- **Variables numéricas continuas (ej. price, review_scores_rating, availability_365, etc.):**\n",
    "  - Si la variable es simétrica y sin valores extremos, se usa la **media**.\n",
    "  - Si la variable tiene sesgo o valores atípicos, se usa la **mediana**.\n",
    "- **Variables categóricas o de texto (ej. host_name, host_response_time, neighborhood_overview, etc.):**\n",
    "  - Se usa el string **'Sin dato'** para indicar ausencia de información.\n",
    "- **Variables de fechas (ej. host_since, first_review, last_review):**\n",
    "  - Se usa **propagación hacia adelante (ffill)**, ya que suelen tener sentido temporal.\n",
    "- **Variables con muy alto porcentaje de nulos (>80%) o irrelevantes:**\n",
    "  - Se pueden eliminar si no aportan valor o si la imputación no es confiable."
   ]
  },
  {
   "cell_type": "code",
   "execution_count": null,
   "id": "4faf5ea0",
   "metadata": {},
   "outputs": [
    {
     "name": "stderr",
     "output_type": "stream",
     "text": [
      "/var/folders/qg/1b6k32sd5_d2jr8q3bhrhg1r0000gn/T/ipykernel_6671/979345398.py:14: FutureWarning: Series.fillna with 'method' is deprecated and will raise in a future version. Use obj.ffill() or obj.bfill() instead.\n",
      "  df_imp[col] = df_imp[col].fillna(method='ffill')\n",
      "/var/folders/qg/1b6k32sd5_d2jr8q3bhrhg1r0000gn/T/ipykernel_6671/979345398.py:14: FutureWarning: Series.fillna with 'method' is deprecated and will raise in a future version. Use obj.ffill() or obj.bfill() instead.\n",
      "  df_imp[col] = df_imp[col].fillna(method='ffill')\n"
     ]
    },
    {
     "data": {
      "text/plain": [
       "id                                              0\n",
       "listing_url                                     0\n",
       "name                                            0\n",
       "neighborhood_overview                           0\n",
       "picture_url                                     0\n",
       "host_id                                         0\n",
       "host_url                                        0\n",
       "host_name                                       0\n",
       "host_since                                      0\n",
       "host_location                                   0\n",
       "host_about                                      0\n",
       "host_response_time                              0\n",
       "host_response_rate                              0\n",
       "host_acceptance_rate                            0\n",
       "host_is_superhost                               0\n",
       "host_total_listings_count                       0\n",
       "host_verifications                              0\n",
       "host_identity_verified                          0\n",
       "price                                           0\n",
       "minimum_nights                                  0\n",
       "maximum_nights                                  0\n",
       "minimum_minimum_nights                          0\n",
       "maximum_minimum_nights                          0\n",
       "minimum_maximum_nights                          0\n",
       "maximum_maximum_nights                          0\n",
       "minimum_nights_avg_ntm                          0\n",
       "maximum_nights_avg_ntm                          0\n",
       "has_availability                                0\n",
       "availability_30                                 0\n",
       "availability_60                                 0\n",
       "availability_90                                 0\n",
       "availability_365                                0\n",
       "number_of_reviews                               0\n",
       "number_of_reviews_ltm                           0\n",
       "number_of_reviews_l30d                          0\n",
       "first_review                                    0\n",
       "last_review                                     0\n",
       "review_scores_rating                            0\n",
       "review_scores_accuracy                          0\n",
       "review_scores_cleanliness                       0\n",
       "review_scores_checkin                           0\n",
       "review_scores_communication                     0\n",
       "review_scores_location                          0\n",
       "review_scores_value                             0\n",
       "instant_bookable                                0\n",
       "calculated_host_listings_count                  0\n",
       "calculated_host_listings_count_entire_homes     0\n",
       "calculated_host_listings_count_private_rooms    0\n",
       "calculated_host_listings_count_shared_rooms     0\n",
       "dtype: int64"
      ]
     },
     "execution_count": 7,
     "metadata": {},
     "output_type": "execute_result"
    }
   ],
   "source": [
    "df_imp = df_reindexado.copy()\n",
    "\n",
    "for col in df_imp.columns:\n",
    "    tipo = df_imp[col].dtype\n",
    "    porc_nulos = df_imp[col].isnull().mean() * 100\n",
    "    \n",
    "    # Eliminar columna si tiene >80% nulos y es irrelevante\n",
    "    if porc_nulos > 80 and col not in ['host_about', 'neighborhood_overview']:\n",
    "        df_imp.drop(columns=col, inplace=True)\n",
    "        continue\n",
    "    \n",
    "    # Fechas: ffill\n",
    "    if 'date' in str(col).lower() or 'since' in str(col).lower() or 'review' in str(col).lower():\n",
    "        df_imp[col] = df_imp[col].fillna(method='ffill')\n",
    "        \n",
    "    # Numéricas: mediana si hay outliers, si no media\n",
    "    elif tipo in [np.float64, np.int64]:\n",
    "        if df_imp[col].skew() > 1 or df_imp[col].skew() < -1:\n",
    "            df_imp[col] = df_imp[col].fillna(df_imp[col].median())\n",
    "        else:\n",
    "            df_imp[col] = df_imp[col].fillna(df_imp[col].mean())\n",
    "            \n",
    "    # Categóricas: 'Sin dato'\n",
    "    elif tipo == object:\n",
    "        df_imp[col] = df_imp[col].fillna('Sin dato')\n",
    "        \n",
    "    # Otros casos: bfill como refuerzo\n",
    "    else:\n",
    "        df_imp[col] = df_imp[col].fillna(method='bfill')\n",
    "        \n",
    "df_imp.isnull().sum()"
   ]
  },
  {
   "cell_type": "markdown",
   "id": "4bf6d2cf",
   "metadata": {},
   "source": [
    "- **price, review_scores_rating, availability_365**: Se usó la mediana si había valores atípicos, si no la media.\n",
    "- **host_name, host_response_time, host_location**: Se usó 'Sin dato' para indicar ausencia de información.\n",
    "- **host_since, first_review, last_review**: Se usó ffill (propagación hacia adelante) por ser fechas.\n",
    "- **host_about, neighborhood_overview**: No se eliminaron aunque tienen muchos nulos, por su posible valor descriptivo.\n",
    "- **Otras columnas**: Se usó bfill si no entraban en los casos anteriores."
   ]
  },
  {
   "cell_type": "code",
   "execution_count": 8,
   "id": "08e50ab8",
   "metadata": {},
   "outputs": [],
   "source": [
    "# Guardar en un nuevo archivo CSV\n",
    "df_imp.to_csv('hawaii_sin_nulos.csv', index=False)"
   ]
  }
 ],
 "metadata": {
  "kernelspec": {
   "display_name": "Analitica",
   "language": "python",
   "name": "python3"
  },
  "language_info": {
   "codemirror_mode": {
    "name": "ipython",
    "version": 3
   },
   "file_extension": ".py",
   "mimetype": "text/x-python",
   "name": "python",
   "nbconvert_exporter": "python",
   "pygments_lexer": "ipython3",
   "version": "3.12.11"
  }
 },
 "nbformat": 4,
 "nbformat_minor": 5
}
