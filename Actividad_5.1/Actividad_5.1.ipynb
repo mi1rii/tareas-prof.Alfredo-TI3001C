{
 "cells": [
  {
   "cell_type": "markdown",
   "id": "8f126214",
   "metadata": {},
   "source": [
    "# Actividad 5.1 (Valores Nulos)\n",
    "- Miranda Eugenia Colorado Arróniz A01737027"
   ]
  },
  {
   "cell_type": "code",
   "execution_count": 8,
   "id": "ef34e910",
   "metadata": {},
   "outputs": [],
   "source": [
    "# Importar el CSV\n",
    "import pandas as pd\n",
    "import numpy as np\n",
    "df = pd.read_csv('VentasTotales.csv')"
   ]
  },
  {
   "cell_type": "code",
   "execution_count": 9,
   "id": "a0125296",
   "metadata": {},
   "outputs": [
    {
     "data": {
      "text/plain": [
       "indice_tiempo                           0\n",
       "ventas_precios_corrientes               0\n",
       "ventas_precios_constantes               0\n",
       "ventas_totales_canal_venta              0\n",
       "salon_ventas                            6\n",
       "canales_on_line                         0\n",
       "ventas_totales_medio_pago               0\n",
       "efectivo                                0\n",
       "tarjetas_debito                         1\n",
       "tarjetas_credito                        7\n",
       "otros_medios                            1\n",
       "ventas_totales_grupo_articulos          0\n",
       "subtotal_ventas_alimentos_bebidas      10\n",
       "bebidas                                 1\n",
       "almacen                                 2\n",
       "panaderia                               1\n",
       "lacteos                                 1\n",
       "carnes                                  1\n",
       "verduleria_fruteria                     1\n",
       "alimentos_preparados_rotiseria          1\n",
       "articulos_limpieza_perfumeria           0\n",
       "indumentaria_calzado_textiles_hogar     2\n",
       "electronicos_articulos_hogar            3\n",
       "otros                                   4\n",
       "dtype: int64"
      ]
     },
     "execution_count": 9,
     "metadata": {},
     "output_type": "execute_result"
    }
   ],
   "source": [
    "# Ver los valores nulos por columna\n",
    "df.isnull().sum()"
   ]
  },
  {
   "cell_type": "markdown",
   "id": "72cdd225",
   "metadata": {},
   "source": [
    "- Si la variable es de ventas totales, se usará la mediana (menos sensible a atípicos).\n",
    "- Si la variable es de tipo temporal, se usará forward fill (ffill).\n",
    "- Si la variable es de tipo categórico, se usará un string específico ('Sin dato').\n",
    "- Si la variable es de tipo monto por canal, se usará backward fill (bfill) si hay secuencia temporal, o un valor fijo si no.\n",
    "- Si la variable tiene pocos nulos y no es crítica, se eliminarán las filas.\n",
    "- Si la variable es de totales por grupo, se usará la media."
   ]
  },
  {
   "cell_type": "code",
   "execution_count": 10,
   "id": "96fb451d",
   "metadata": {},
   "outputs": [
    {
     "name": "stderr",
     "output_type": "stream",
     "text": [
      "/var/folders/qg/1b6k32sd5_d2jr8q3bhrhg1r0000gn/T/ipykernel_5321/1698152081.py:7: FutureWarning: Series.fillna with 'method' is deprecated and will raise in a future version. Use obj.ffill() or obj.bfill() instead.\n",
      "  df_sust[col] = df_sust[col].fillna(method='ffill')\n",
      "/var/folders/qg/1b6k32sd5_d2jr8q3bhrhg1r0000gn/T/ipykernel_5321/1698152081.py:13: FutureWarning: Series.fillna with 'method' is deprecated and will raise in a future version. Use obj.ffill() or obj.bfill() instead.\n",
      "  df_sust[col] = df_sust[col].fillna(method='bfill')\n",
      "/var/folders/qg/1b6k32sd5_d2jr8q3bhrhg1r0000gn/T/ipykernel_5321/1698152081.py:13: FutureWarning: Series.fillna with 'method' is deprecated and will raise in a future version. Use obj.ffill() or obj.bfill() instead.\n",
      "  df_sust[col] = df_sust[col].fillna(method='bfill')\n"
     ]
    },
    {
     "data": {
      "text/plain": [
       "indice_tiempo                          0\n",
       "ventas_precios_corrientes              0\n",
       "ventas_precios_constantes              0\n",
       "ventas_totales_canal_venta             0\n",
       "salon_ventas                           0\n",
       "canales_on_line                        0\n",
       "ventas_totales_medio_pago              0\n",
       "efectivo                               0\n",
       "tarjetas_debito                        0\n",
       "tarjetas_credito                       0\n",
       "otros_medios                           0\n",
       "ventas_totales_grupo_articulos         0\n",
       "subtotal_ventas_alimentos_bebidas      0\n",
       "bebidas                                0\n",
       "almacen                                0\n",
       "panaderia                              0\n",
       "lacteos                                0\n",
       "carnes                                 0\n",
       "verduleria_fruteria                    0\n",
       "alimentos_preparados_rotiseria         0\n",
       "articulos_limpieza_perfumeria          0\n",
       "indumentaria_calzado_textiles_hogar    0\n",
       "electronicos_articulos_hogar           0\n",
       "otros                                  0\n",
       "dtype: int64"
      ]
     },
     "execution_count": 10,
     "metadata": {},
     "output_type": "execute_result"
    }
   ],
   "source": [
    "df_sust = df.copy()\n",
    "\n",
    "# Sustituir los valores nulos por columna\n",
    "for col in df_sust.columns:\n",
    "    if col == 'indice_tiempo':\n",
    "        # Forward fill\n",
    "        df_sust[col] = df_sust[col].fillna(method='ffill')\n",
    "    elif col in ['ventas_totales_canal_venta', 'ventas_totales_medio_pago', 'ventas_totales_grupo_articulos', 'ventas_totales_constantes', 'ventas_totales_grupo_articulos']:\n",
    "        # Mediana\n",
    "        df_sust[col] = df_sust[col].fillna(df_sust[col].median())\n",
    "    elif col in ['salon_ventas', 'canales_on_line', 'efectivo', 'tarjetas_debito', 'tarjetas_credito', 'otros_medios']:\n",
    "        # Backward fill\n",
    "        df_sust[col] = df_sust[col].fillna(method='bfill')\n",
    "    elif col in ['bebidas', 'almacen', 'panaderia', 'lacteos', 'carnes', 'verduleria_fruteria', 'alimentos_preparados_rotiseria', 'articulos_limpieza_perfumeria', 'indumentaria_calzado_textiles_hogar', 'electronicos_articulos_hogar', 'otros']:\n",
    "        # Media\n",
    "        df_sust[col] = df_sust[col].fillna(df_sust[col].mean())\n",
    "    else:\n",
    "        # String específico\n",
    "        df_sust[col] = df_sust[col].fillna('Sin dato')\n",
    "\n",
    "# Ver otra vez los valores nulos por columna\n",
    "df_sust.isnull().sum()"
   ]
  },
  {
   "cell_type": "markdown",
   "id": "703f8986",
   "metadata": {},
   "source": [
    "- **indice_tiempo**: Se usó forward fill porque es una variable temporal y se asume que la secuencia debe mantenerse continua.\n",
    "- **ventas_totales_canal_venta, ventas_totales_medio_pago, ventas_totales_grupo_articulos, ventas_totales_constantes**: Se usó la mediana porque son totales y la mediana es menos sensible a valores atípicos.\n",
    "- **salon_ventas, canales_on_line, efectivo, tarjetas_debito, tarjetas_credito, otros_medios**: Se usó backward fill porque son montos por canal y suelen tener continuidad temporal.\n",
    "- **bebidas, almacen, panaderia, lacteos, carnes, verduleria_fruteria, alimentos_preparados_rotiseria, articulos_limpieza_perfumeria, indumentaria_calzado_textiles_hogar, electronicos_articulos_hogar, otros**: Se usó la media porque son totales por grupo y la media representa el comportamiento general.\n",
    "- **Variables categóricas o de texto**: Se usó el string 'Sin dato' para identificar los registros sin información."
   ]
  },
  {
   "cell_type": "code",
   "execution_count": 11,
   "id": "7a2a734f",
   "metadata": {},
   "outputs": [],
   "source": [
    "# Guardar en un nuevo archivo CSV\n",
    "df_sust.to_csv('VentasTotales_sin_nulos.csv', index=False)"
   ]
  }
 ],
 "metadata": {
  "kernelspec": {
   "display_name": "Analitica",
   "language": "python",
   "name": "python3"
  },
  "language_info": {
   "codemirror_mode": {
    "name": "ipython",
    "version": 3
   },
   "file_extension": ".py",
   "mimetype": "text/x-python",
   "name": "python",
   "nbconvert_exporter": "python",
   "pygments_lexer": "ipython3",
   "version": "3.12.11"
  }
 },
 "nbformat": 4,
 "nbformat_minor": 5
}
